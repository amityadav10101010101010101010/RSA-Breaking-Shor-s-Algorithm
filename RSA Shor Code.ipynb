{
 "cells": [
  {
   "cell_type": "code",
   "execution_count": 3,
   "id": "af689c27-8333-480a-b113-9f22c3f463ff",
   "metadata": {},
   "outputs": [
    {
     "name": "stderr",
     "output_type": "stream",
     "text": [
      "ibmqfactory.load_account:WARNING:2022-01-20 18:48:18,339: Credentials are already in use. The existing account in the session will be replaced.\n"
     ]
    }
   ],
   "source": [
    "import numpy as np\n",
    "\n",
    "# Importing standard Qiskit libraries\n",
    "from qiskit import QuantumCircuit, transpile, Aer, IBMQ\n",
    "from qiskit.tools.jupyter import *\n",
    "from qiskit.visualization import *\n",
    "from ibm_quantum_widgets import *\n",
    "from qiskit.providers.aer import QasmSimulator\n",
    "\n",
    "# Loading your IBM Quantum account(s)\n",
    "provider = IBMQ.load_account()"
   ]
  },
  {
   "cell_type": "code",
   "execution_count": 9,
   "id": "cb286859-cb16-4fa3-8662-9803c659b9bd",
   "metadata": {},
   "outputs": [],
   "source": [
    "from __future__ import unicode_literals\n",
    "from math import sqrt\n",
    "import random\n",
    "from random import randint as rand\n",
    "\n",
    "def gcd(a, b):\n",
    "    if b == 0:\n",
    "        return a\n",
    "    else:\n",
    "        return gcd(b, a % b)\n",
    "\n",
    "def mod_inverse(a, m):\n",
    "    for x in range(1, m):\n",
    "        if (a * x) % m == 1:\n",
    "            return x\n",
    "    return -1\n",
    "\n",
    "def isprime(n):\n",
    "    if n < 2:\n",
    "        return False\n",
    "    elif n == 2:\n",
    "        return True\n",
    "    else:\n",
    "        for i in range(1, int(sqrt(n)) + 1):\n",
    "            if n % i == 0:\n",
    "                return False\n",
    "    return True\n",
    "\n",
    "def generate_keypair(keysize):\n",
    "    p = rand(1, 1000)\n",
    "    q = rand(1, 1000)\n",
    "    nMin = 1 << (keysize - 1)\n",
    "    nMax = (1 << keysize) - 1\n",
    "    primes = [2]\n",
    "    start = 1 << (keysize // 2 - 1)\n",
    "    stop = 1 << (keysize // 2 + 1)\n",
    "    if start >= stop:\n",
    "        return []\n",
    "    for i in range(3, stop + 1, 2):\n",
    "        for p in primes:\n",
    "            if i % p == 0:\n",
    "                break\n",
    "        else:\n",
    "            primes.append(i)\n",
    "    while (primes and primes[0] < start):\n",
    "        del primes[0]\n",
    "    while primes:\n",
    "        p = random.choice(primes)\n",
    "        primes.remove(p)\n",
    "        q_values = [q for q in primes if nMin <= p * q <= nMax]\n",
    "        if q_values:\n",
    "            q = random.choice(q_values)\n",
    "            break\n",
    "    print(p, q)\n",
    "    n = p * q\n",
    "    phi = (p - 1) * (q - 1)\n",
    "    e = random.randrange(1, phi)\n",
    "    g = gcd(e, phi)\n",
    "    while True:\n",
    "        e = random.randrange(1, phi)\n",
    "        g = gcd(e, phi)\n",
    "        d = mod_inverse(e, phi)\n",
    "        if g == 1 and e != d:\n",
    "            break\n",
    "\n",
    "    return ((e, n), (d, n))\n",
    "\n",
    "def encrypt(msg_plaintext, package):\n",
    "    e, n = package\n",
    "    msg_ciphertext = [pow(ord(c), e, n) for c in msg_plaintext]\n",
    "    return ''.join(map(lambda x: str(x), msg_ciphertext)), msg_ciphertext\n",
    "\n",
    "def decrypt(msg_ciphertext, package):\n",
    "    d, n = package\n",
    "    msg_plaintext = [chr(pow(c, d, n)) for c in msg_ciphertext]\n",
    "    return (''.join(msg_plaintext))"
   ]
  },
  {
   "cell_type": "code",
   "execution_count": 10,
   "id": "1bb03230-3baf-40ed-b389-b3b560ee1a58",
   "metadata": {},
   "outputs": [
    {
     "name": "stdin",
     "output_type": "stream",
     "text": [
      "Enter bit_length:  4\n"
     ]
    },
    {
     "name": "stdout",
     "output_type": "stream",
     "text": [
      "419 151\n"
     ]
    }
   ],
   "source": [
    "\n",
    "\n",
    "bit_length = int(input(\"Enter bit_length: \"))\n",
    "\n",
    "public, private = generate_keypair(2**bit_length)"
   ]
  },
  {
   "cell_type": "code",
   "execution_count": 11,
   "id": "5f8682d0-2e6c-4c6a-955b-ef5d441bcb78",
   "metadata": {},
   "outputs": [
    {
     "name": "stdin",
     "output_type": "stream",
     "text": [
      "\n",
      "Write message:  Yes\n"
     ]
    },
    {
     "name": "stdout",
     "output_type": "stream",
     "text": [
      "\n",
      "Encrypted message: 20607577928194\n"
     ]
    }
   ],
   "source": [
    "msg = input(\"\\nWrite message: \")\n",
    "encrypted_msg, encryption_obj = encrypt(msg, public)\n",
    "\n",
    "print(\"\\nEncrypted message: \" + encrypted_msg)"
   ]
  },
  {
   "cell_type": "code",
   "execution_count": 12,
   "id": "3aa03361-f641-40c9-9ca4-7e704461e22b",
   "metadata": {},
   "outputs": [
    {
     "name": "stdout",
     "output_type": "stream",
     "text": [
      "\n",
      "Decrypted message using RSA Algorithm: Yes\n"
     ]
    }
   ],
   "source": [
    "decrypted_msg = decrypt(encryption_obj, private)\n",
    "\n",
    "print(\"\\nDecrypted message using RSA Algorithm: \" + decrypted_msg)"
   ]
  },
  {
   "cell_type": "code",
   "execution_count": 14,
   "id": "19505029-619f-44ee-8ee4-9ad63c8028de",
   "metadata": {},
   "outputs": [],
   "source": [
    "from math import gcd,log\n",
    "from random import randint\n",
    "import numpy as np\n",
    "from qiskit import *\n",
    "\n",
    "qasm_sim = Aer.get_backend('qasm_simulator')"
   ]
  },
  {
   "cell_type": "code",
   "execution_count": 15,
   "id": "fdf4491a-7be4-4c7d-a658-e84b5fe45946",
   "metadata": {},
   "outputs": [],
   "source": [
    "def period(a,N):\n",
    "    \n",
    "    available_qubits = 16 \n",
    "    r=-1   \n",
    "    \n",
    "    if N >= 2**available_qubits:\n",
    "        print(str(N)+' is too big for IBMQX')\n",
    "    \n",
    "    qr = QuantumRegister(available_qubits)   \n",
    "    cr = ClassicalRegister(available_qubits)\n",
    "    qc = QuantumCircuit(qr,cr)\n",
    "    x0 = randint(1, N-1) \n",
    "    x_binary = np.zeros(available_qubits, dtype=bool)\n",
    "    \n",
    "    for i in range(1, available_qubits + 1):\n",
    "        bit_state = (N%(2**i)!=0)\n",
    "        if bit_state:\n",
    "            N -= 2**(i-1)\n",
    "        x_binary[available_qubits-i] = bit_state    \n",
    "    \n",
    "    for i in range(0,available_qubits):\n",
    "        if x_binary[available_qubits-i-1]:\n",
    "            qc.x(qr[i])\n",
    "    x = x0\n",
    "    \n",
    "    while np.logical_or(x != x0, r <= 0):\n",
    "        r+=1\n",
    "        qc.measure(qr, cr) \n",
    "        for i in range(0,3): \n",
    "            qc.x(qr[i])\n",
    "        qc.cx(qr[2],qr[1])\n",
    "        qc.cx(qr[1],qr[2])\n",
    "        qc.cx(qr[2],qr[1])\n",
    "        qc.cx(qr[1],qr[0])\n",
    "        qc.cx(qr[0],qr[1])\n",
    "        qc.cx(qr[1],qr[0])\n",
    "        qc.cx(qr[3],qr[0])\n",
    "        qc.cx(qr[0],qr[1])\n",
    "        qc.cx(qr[1],qr[0])\n",
    "        \n",
    "        result = execute(qc,backend = qasm_sim, shots=1024).result()\n",
    "        counts = result.get_counts()\n",
    "        \n",
    "        #print(qc)\n",
    "        \n",
    "        results = [[],[]]\n",
    "        for key,value in counts.items(): \n",
    "            results[0].append(key)\n",
    "            results[1].append(int(value))\n",
    "        s = results[0][np.argmax(np.array(results[1]))]\n",
    "    return r"
   ]
  },
  {
   "cell_type": "code",
   "execution_count": 16,
   "id": "e0614579-0f1d-4c44-8504-46f7866a70c9",
   "metadata": {},
   "outputs": [],
   "source": [
    "def shors_breaker(N):\n",
    "    N = int(N)\n",
    "    while True:\n",
    "        a=randint(0,N-1)\n",
    "        g=gcd(a,N)\n",
    "        if g!=1 or N==1:\n",
    "            return g,N//g\n",
    "        else:\n",
    "            r=period(a,N) \n",
    "            if r % 2 != 0:\n",
    "                continue\n",
    "            elif pow(a,r//2,N)==-1:\n",
    "                continue\n",
    "            else:\n",
    "                p=gcd(pow(a,r//2)+1,N)\n",
    "                q=gcd(pow(a,r//2)-1,N)\n",
    "                if p==N or q==N:\n",
    "                    continue\n",
    "                return p,q\n",
    "def modular_inverse(a,m): \n",
    "    a = a % m; \n",
    "    for x in range(1, m) : \n",
    "        if ((a * x) % m == 1) : \n",
    "            return x \n",
    "    return 1\n",
    "N_shor = public[1]\n",
    "assert N_shor>0,\"Input must be positive\"\n",
    "p,q = shors_breaker(N_shor)\n",
    "phi = (p-1) * (q-1)  \n",
    "d_shor = modular_inverse(public[0], phi) "
   ]
  },
  {
   "cell_type": "code",
   "execution_count": 17,
   "id": "772d70b3-89de-4ce8-8ece-445a8e68ac6a",
   "metadata": {},
   "outputs": [
    {
     "name": "stdout",
     "output_type": "stream",
     "text": [
      "\n",
      "Message Cracked using Shors Algorithm: Yes\n",
      "\n"
     ]
    }
   ],
   "source": [
    "decrypted_msg = decrypt(encryption_obj, (d_shor,N_shor))\n",
    "\n",
    "print('\\nMessage Cracked using Shors Algorithm: ' + decrypted_msg + \"\\n\")"
   ]
  },
  {
   "cell_type": "code",
   "execution_count": null,
   "id": "f5634025-16bd-48a0-80e9-c1f0fbfc393f",
   "metadata": {},
   "outputs": [],
   "source": []
  }
 ],
 "metadata": {
  "kernelspec": {
   "display_name": "Qiskit v0.34.1 (ipykernel)",
   "language": "python",
   "name": "python3"
  },
  "language_info": {
   "codemirror_mode": {
    "name": "ipython",
    "version": 3
   },
   "file_extension": ".py",
   "mimetype": "text/x-python",
   "name": "python",
   "nbconvert_exporter": "python",
   "pygments_lexer": "ipython3",
   "version": "3.8.12"
  },
  "widgets": {
   "application/vnd.jupyter.widget-state+json": {
    "state": {
     "0316b5f9ec874090a315acce1808e8aa": {
      "model_module": "@jupyter-widgets/base",
      "model_module_version": "1.2.0",
      "model_name": "LayoutModel",
      "state": {
       "width": "145px"
      }
     },
     "0ca66632ffe6404eb1967f1a4f44cfa1": {
      "model_module": "@jupyter-widgets/controls",
      "model_module_version": "1.5.0",
      "model_name": "HTMLModel",
      "state": {
       "layout": "IPY_MODEL_ac20b30781a84e6385eb05fa384340e9",
       "style": "IPY_MODEL_dad34aaa015145d695292182ae0a9860",
       "value": "<h5>Status</h5>"
      }
     },
     "0d663eb07afb45afbe381173daf3d131": {
      "model_module": "@jupyter-widgets/controls",
      "model_module_version": "1.5.0",
      "model_name": "HTMLModel",
      "state": {
       "layout": "IPY_MODEL_755c13a7db2744139f4369da1f562110",
       "style": "IPY_MODEL_b3ad20ffb5874783ab978cecb2fbaf2f",
       "value": "<h5>Job ID</h5>"
      }
     },
     "1406183176f44638b91bed99d69ad514": {
      "model_module": "@jupyter-widgets/controls",
      "model_module_version": "1.5.0",
      "model_name": "ButtonModel",
      "state": {
       "button_style": "primary",
       "description": "Clear",
       "layout": "IPY_MODEL_879c68bfdc99456584781bf719bbc536",
       "style": "IPY_MODEL_bea68448dbca4929a2cd6af5b11e0374"
      }
     },
     "22a42f89cf924dc5a8544e83a76a20c1": {
      "model_module": "@jupyter-widgets/controls",
      "model_module_version": "1.5.0",
      "model_name": "DescriptionStyleModel",
      "state": {
       "description_width": ""
      }
     },
     "3239879a01ec4f7092710eda2362b2be": {
      "model_module": "@jupyter-widgets/controls",
      "model_module_version": "1.5.0",
      "model_name": "HTMLModel",
      "state": {
       "layout": "IPY_MODEL_0316b5f9ec874090a315acce1808e8aa",
       "style": "IPY_MODEL_22a42f89cf924dc5a8544e83a76a20c1",
       "value": "<h5>Backend</h5>"
      }
     },
     "34fdbf2952cb43f2b98046ac00fe6b84": {
      "model_module": "@jupyter-widgets/controls",
      "model_module_version": "1.5.0",
      "model_name": "HTMLModel",
      "state": {
       "layout": "IPY_MODEL_98ae5f9215f640d28f9b2849f12c4d89",
       "style": "IPY_MODEL_5b57f526a44b4f3990e8792f66f97564",
       "value": "<h5>Queue</h5>"
      }
     },
     "366ad28e069b4570b1e93561d5960944": {
      "model_module": "@jupyter-widgets/controls",
      "model_module_version": "1.5.0",
      "model_name": "DescriptionStyleModel",
      "state": {
       "description_width": ""
      }
     },
     "5224ce8033464ff5a1946a411c3b1d56": {
      "model_module": "@jupyter-widgets/controls",
      "model_module_version": "1.5.0",
      "model_name": "DescriptionStyleModel",
      "state": {
       "description_width": ""
      }
     },
     "584a4577e48f4e1d86e152cd275f3698": {
      "model_module": "@jupyter-widgets/base",
      "model_module_version": "1.2.0",
      "model_name": "LayoutModel",
      "state": {
       "margin": "0px 0px 10px 0px"
      }
     },
     "5b57f526a44b4f3990e8792f66f97564": {
      "model_module": "@jupyter-widgets/controls",
      "model_module_version": "1.5.0",
      "model_name": "DescriptionStyleModel",
      "state": {
       "description_width": ""
      }
     },
     "5b5d350a2b384c60a3326311283e35c3": {
      "model_module": "@jupyter-widgets/controls",
      "model_module_version": "1.5.0",
      "model_name": "HBoxModel",
      "state": {
       "children": [
        "IPY_MODEL_0d663eb07afb45afbe381173daf3d131",
        "IPY_MODEL_3239879a01ec4f7092710eda2362b2be",
        "IPY_MODEL_0ca66632ffe6404eb1967f1a4f44cfa1",
        "IPY_MODEL_34fdbf2952cb43f2b98046ac00fe6b84",
        "IPY_MODEL_f2fe6a75ec1d47aa9a279eb455c4e61f"
       ],
       "layout": "IPY_MODEL_bfc6ec5a760b48afa7b46cffbf49c883"
      }
     },
     "67b9fdb4191e4a10b3795a5d01fbfb63": {
      "model_module": "@jupyter-widgets/controls",
      "model_module_version": "1.5.0",
      "model_name": "HTMLModel",
      "state": {
       "layout": "IPY_MODEL_584a4577e48f4e1d86e152cd275f3698",
       "style": "IPY_MODEL_366ad28e069b4570b1e93561d5960944",
       "value": "<p style='font-family: IBM Plex Sans, Arial, Helvetica, sans-serif; font-size: 20px; font-weight: medium;'>Circuit Properties</p>"
      }
     },
     "755c13a7db2744139f4369da1f562110": {
      "model_module": "@jupyter-widgets/base",
      "model_module_version": "1.2.0",
      "model_name": "LayoutModel",
      "state": {
       "width": "190px"
      }
     },
     "879c68bfdc99456584781bf719bbc536": {
      "model_module": "@jupyter-widgets/base",
      "model_module_version": "1.2.0",
      "model_name": "LayoutModel",
      "state": {
       "grid_area": "right",
       "padding": "0px 0px 0px 0px",
       "width": "70px"
      }
     },
     "98ae5f9215f640d28f9b2849f12c4d89": {
      "model_module": "@jupyter-widgets/base",
      "model_module_version": "1.2.0",
      "model_name": "LayoutModel",
      "state": {
       "width": "70px"
      }
     },
     "9dac89319f4c4d68a2e7e4b6013bc5c4": {
      "model_module": "@jupyter-widgets/base",
      "model_module_version": "1.2.0",
      "model_name": "LayoutModel",
      "state": {
       "grid_template_areas": "\n                                       \". . . . right \"\n                                        ",
       "grid_template_columns": "20% 20% 20% 20% 20%",
       "width": "100%"
      }
     },
     "a13bbe3d3b984da0986942124e64a8fe": {
      "model_module": "@jupyter-widgets/base",
      "model_module_version": "1.2.0",
      "model_name": "LayoutModel",
      "state": {}
     },
     "ac20b30781a84e6385eb05fa384340e9": {
      "model_module": "@jupyter-widgets/base",
      "model_module_version": "1.2.0",
      "model_name": "LayoutModel",
      "state": {
       "width": "95px"
      }
     },
     "b3ad20ffb5874783ab978cecb2fbaf2f": {
      "model_module": "@jupyter-widgets/controls",
      "model_module_version": "1.5.0",
      "model_name": "DescriptionStyleModel",
      "state": {
       "description_width": ""
      }
     },
     "b57375a9d1fb48028a38a79c82b6f4f8": {
      "model_module": "@jupyter-widgets/controls",
      "model_module_version": "1.5.0",
      "model_name": "GridBoxModel",
      "state": {
       "children": [
        "IPY_MODEL_1406183176f44638b91bed99d69ad514"
       ],
       "layout": "IPY_MODEL_9dac89319f4c4d68a2e7e4b6013bc5c4"
      }
     },
     "bea68448dbca4929a2cd6af5b11e0374": {
      "model_module": "@jupyter-widgets/controls",
      "model_module_version": "1.5.0",
      "model_name": "ButtonStyleModel",
      "state": {}
     },
     "bfc6ec5a760b48afa7b46cffbf49c883": {
      "model_module": "@jupyter-widgets/base",
      "model_module_version": "1.2.0",
      "model_name": "LayoutModel",
      "state": {
       "margin": "0px 0px 0px 37px",
       "width": "600px"
      }
     },
     "dad34aaa015145d695292182ae0a9860": {
      "model_module": "@jupyter-widgets/controls",
      "model_module_version": "1.5.0",
      "model_name": "DescriptionStyleModel",
      "state": {
       "description_width": ""
      }
     },
     "f2fe6a75ec1d47aa9a279eb455c4e61f": {
      "model_module": "@jupyter-widgets/controls",
      "model_module_version": "1.5.0",
      "model_name": "HTMLModel",
      "state": {
       "layout": "IPY_MODEL_a13bbe3d3b984da0986942124e64a8fe",
       "style": "IPY_MODEL_5224ce8033464ff5a1946a411c3b1d56",
       "value": "<h5>Message</h5>"
      }
     }
    },
    "version_major": 2,
    "version_minor": 0
   }
  }
 },
 "nbformat": 4,
 "nbformat_minor": 5
}
